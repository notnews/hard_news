{
 "cells": [
  {
   "cell_type": "code",
   "execution_count": 1,
   "metadata": {},
   "outputs": [],
   "source": [
    "import pandas as pd"
   ]
  },
  {
   "cell_type": "code",
   "execution_count": 2,
   "metadata": {},
   "outputs": [],
   "source": [
    "dat = pd.read_csv(\"final_data.csv\")"
   ]
  },
  {
   "cell_type": "code",
   "execution_count": 3,
   "metadata": {},
   "outputs": [
    {
     "data": {
      "text/html": [
       "<div>\n",
       "<style scoped>\n",
       "    .dataframe tbody tr th:only-of-type {\n",
       "        vertical-align: middle;\n",
       "    }\n",
       "\n",
       "    .dataframe tbody tr th {\n",
       "        vertical-align: top;\n",
       "    }\n",
       "\n",
       "    .dataframe thead th {\n",
       "        text-align: right;\n",
       "    }\n",
       "</style>\n",
       "<table border=\"1\" class=\"dataframe\">\n",
       "  <thead>\n",
       "    <tr style=\"text-align: right;\">\n",
       "      <th></th>\n",
       "      <th>sample_id</th>\n",
       "      <th>year</th>\n",
       "      <th>broadcast_abstract</th>\n",
       "      <th>abstract_length</th>\n",
       "      <th>broadcasts_in_year</th>\n",
       "      <th>broadcast_time</th>\n",
       "      <th>id_coder_1</th>\n",
       "      <th>id_coder_2</th>\n",
       "      <th>id_coder_3</th>\n",
       "      <th>geography_coder_1</th>\n",
       "      <th>...</th>\n",
       "      <th>welfare</th>\n",
       "      <th>election</th>\n",
       "      <th>election_date</th>\n",
       "      <th>start_broadcast_time</th>\n",
       "      <th>end_broadcast_time</th>\n",
       "      <th>date</th>\n",
       "      <th>program_title</th>\n",
       "      <th>special</th>\n",
       "      <th>evening_news</th>\n",
       "      <th>channel</th>\n",
       "    </tr>\n",
       "  </thead>\n",
       "  <tbody>\n",
       "    <tr>\n",
       "      <th>0</th>\n",
       "      <td>662312</td>\n",
       "      <td>1968</td>\n",
       "      <td>Pope Paul fears some young and rebellious Cath...</td>\n",
       "      <td>1160</td>\n",
       "      <td>4560</td>\n",
       "      <td>85490</td>\n",
       "      <td>45126470</td>\n",
       "      <td>45686132</td>\n",
       "      <td>45689555</td>\n",
       "      <td>international</td>\n",
       "      <td>...</td>\n",
       "      <td>0</td>\n",
       "      <td>0</td>\n",
       "      <td>presidential</td>\n",
       "      <td>12H 21M 50S</td>\n",
       "      <td>12H 6M 40S</td>\n",
       "      <td>Monday, Sep 23, 1968</td>\n",
       "      <td>ABC Evening News</td>\n",
       "      <td>False</td>\n",
       "      <td>True</td>\n",
       "      <td>ABC</td>\n",
       "    </tr>\n",
       "    <tr>\n",
       "      <th>1</th>\n",
       "      <td>134</td>\n",
       "      <td>1968</td>\n",
       "      <td>Live NBC coverage Republican National Conventi...</td>\n",
       "      <td>276</td>\n",
       "      <td>4560</td>\n",
       "      <td>3720</td>\n",
       "      <td>45126470</td>\n",
       "      <td>45544038</td>\n",
       "      <td>45526263</td>\n",
       "      <td>national</td>\n",
       "      <td>...</td>\n",
       "      <td>0</td>\n",
       "      <td>0</td>\n",
       "      <td>presidential</td>\n",
       "      <td>NaN</td>\n",
       "      <td>NaN</td>\n",
       "      <td>Monday, Aug 05, 1968</td>\n",
       "      <td>NBC Special</td>\n",
       "      <td>True</td>\n",
       "      <td>False</td>\n",
       "      <td>NBC</td>\n",
       "    </tr>\n",
       "    <tr>\n",
       "      <th>2</th>\n",
       "      <td>661155</td>\n",
       "      <td>1968</td>\n",
       "      <td>Attorney Percy Foreman to defense James Earl R...</td>\n",
       "      <td>942</td>\n",
       "      <td>4560</td>\n",
       "      <td>170</td>\n",
       "      <td>45348963</td>\n",
       "      <td>44975113</td>\n",
       "      <td>45598929</td>\n",
       "      <td>national</td>\n",
       "      <td>...</td>\n",
       "      <td>0</td>\n",
       "      <td>0</td>\n",
       "      <td>presidential</td>\n",
       "      <td>12H 10M 20S</td>\n",
       "      <td>12H 13M 10S</td>\n",
       "      <td>Monday, Nov 11, 1968</td>\n",
       "      <td>ABC Evening News</td>\n",
       "      <td>False</td>\n",
       "      <td>True</td>\n",
       "      <td>ABC</td>\n",
       "    </tr>\n",
       "    <tr>\n",
       "      <th>3</th>\n",
       "      <td>661388</td>\n",
       "      <td>1968</td>\n",
       "      <td>United States rips into North Vietnam with reg...</td>\n",
       "      <td>887</td>\n",
       "      <td>4560</td>\n",
       "      <td>240</td>\n",
       "      <td>45348963</td>\n",
       "      <td>45180724</td>\n",
       "      <td>44944563</td>\n",
       "      <td>national</td>\n",
       "      <td>...</td>\n",
       "      <td>0</td>\n",
       "      <td>0</td>\n",
       "      <td>presidential</td>\n",
       "      <td>12H 0M 20S</td>\n",
       "      <td>12H 4M 20S</td>\n",
       "      <td>Wednesday, Nov 13, 1968</td>\n",
       "      <td>CBS Evening News</td>\n",
       "      <td>False</td>\n",
       "      <td>True</td>\n",
       "      <td>CBS</td>\n",
       "    </tr>\n",
       "    <tr>\n",
       "      <th>4</th>\n",
       "      <td>662270</td>\n",
       "      <td>1968</td>\n",
       "      <td>Richard Nixon begins 10 state campaign tour. I...</td>\n",
       "      <td>651</td>\n",
       "      <td>4560</td>\n",
       "      <td>180</td>\n",
       "      <td>45126470</td>\n",
       "      <td>45686132</td>\n",
       "      <td>45278443</td>\n",
       "      <td>national</td>\n",
       "      <td>...</td>\n",
       "      <td>0</td>\n",
       "      <td>0</td>\n",
       "      <td>presidential</td>\n",
       "      <td>12H 5M 10S</td>\n",
       "      <td>12H 8M 10S</td>\n",
       "      <td>Monday, Sep 23, 1968</td>\n",
       "      <td>NBC Evening News</td>\n",
       "      <td>False</td>\n",
       "      <td>True</td>\n",
       "      <td>NBC</td>\n",
       "    </tr>\n",
       "  </tbody>\n",
       "</table>\n",
       "<p>5 rows × 47 columns</p>\n",
       "</div>"
      ],
      "text/plain": [
       "   sample_id  year                                 broadcast_abstract  \\\n",
       "0     662312  1968  Pope Paul fears some young and rebellious Cath...   \n",
       "1        134  1968  Live NBC coverage Republican National Conventi...   \n",
       "2     661155  1968  Attorney Percy Foreman to defense James Earl R...   \n",
       "3     661388  1968  United States rips into North Vietnam with reg...   \n",
       "4     662270  1968  Richard Nixon begins 10 state campaign tour. I...   \n",
       "\n",
       "   abstract_length  broadcasts_in_year  broadcast_time  id_coder_1  \\\n",
       "0             1160                4560           85490    45126470   \n",
       "1              276                4560            3720    45126470   \n",
       "2              942                4560             170    45348963   \n",
       "3              887                4560             240    45348963   \n",
       "4              651                4560             180    45126470   \n",
       "\n",
       "   id_coder_2  id_coder_3 geography_coder_1  ... welfare election  \\\n",
       "0    45686132    45689555     international  ...       0        0   \n",
       "1    45544038    45526263          national  ...       0        0   \n",
       "2    44975113    45598929          national  ...       0        0   \n",
       "3    45180724    44944563          national  ...       0        0   \n",
       "4    45686132    45278443          national  ...       0        0   \n",
       "\n",
       "  election_date start_broadcast_time end_broadcast_time  \\\n",
       "0  presidential          12H 21M 50S         12H 6M 40S   \n",
       "1  presidential                  NaN                NaN   \n",
       "2  presidential          12H 10M 20S        12H 13M 10S   \n",
       "3  presidential           12H 0M 20S         12H 4M 20S   \n",
       "4  presidential           12H 5M 10S         12H 8M 10S   \n",
       "\n",
       "                      date     program_title special evening_news  channel  \n",
       "0     Monday, Sep 23, 1968  ABC Evening News   False         True      ABC  \n",
       "1     Monday, Aug 05, 1968       NBC Special    True        False      NBC  \n",
       "2     Monday, Nov 11, 1968  ABC Evening News   False         True      ABC  \n",
       "3  Wednesday, Nov 13, 1968  CBS Evening News   False         True      CBS  \n",
       "4     Monday, Sep 23, 1968  NBC Evening News   False         True      NBC  \n",
       "\n",
       "[5 rows x 47 columns]"
      ]
     },
     "execution_count": 3,
     "metadata": {},
     "output_type": "execute_result"
    }
   ],
   "source": [
    "dat.head()"
   ]
  },
  {
   "cell_type": "code",
   "execution_count": 4,
   "metadata": {},
   "outputs": [
    {
     "data": {
      "text/plain": [
       "['sample_id',\n",
       " 'year',\n",
       " 'broadcast_abstract',\n",
       " 'abstract_length',\n",
       " 'broadcasts_in_year',\n",
       " 'broadcast_time',\n",
       " 'id_coder_1',\n",
       " 'id_coder_2',\n",
       " 'id_coder_3',\n",
       " 'geography_coder_1',\n",
       " 'geography_coder_2',\n",
       " 'geography_coder_3',\n",
       " 'news_coder_1',\n",
       " 'news_coder_2',\n",
       " 'news_coder_3',\n",
       " 'news',\n",
       " 'news_majority',\n",
       " 'geography',\n",
       " 'geography_majority',\n",
       " 'president',\n",
       " 'p_nixon',\n",
       " 'p_agnew',\n",
       " 'p_ford',\n",
       " 'p_rockef',\n",
       " 'p_carter',\n",
       " 'p_mondale',\n",
       " 'p_reagan',\n",
       " 'p_bush',\n",
       " 'p_quayle',\n",
       " 'p_clinton',\n",
       " 'p_gore',\n",
       " 'p_cheney',\n",
       " 'p_obama',\n",
       " 'p_biden',\n",
       " 'p_trump',\n",
       " 'war',\n",
       " 'economy',\n",
       " 'welfare',\n",
       " 'election',\n",
       " 'election_date',\n",
       " 'start_broadcast_time',\n",
       " 'end_broadcast_time',\n",
       " 'date',\n",
       " 'program_title',\n",
       " 'special',\n",
       " 'evening_news',\n",
       " 'channel']"
      ]
     },
     "execution_count": 4,
     "metadata": {},
     "output_type": "execute_result"
    }
   ],
   "source": [
    "list(dat)"
   ]
  },
  {
   "cell_type": "code",
   "execution_count": 5,
   "metadata": {},
   "outputs": [
    {
     "data": {
      "text/plain": [
       "0    hard\n",
       "1    hard\n",
       "2    hard\n",
       "3    hard\n",
       "4    hard\n",
       "Name: news, dtype: object"
      ]
     },
     "execution_count": 5,
     "metadata": {},
     "output_type": "execute_result"
    }
   ],
   "source": [
    "dat['news'].head()"
   ]
  },
  {
   "cell_type": "code",
   "execution_count": 6,
   "metadata": {},
   "outputs": [],
   "source": [
    "# Let's setup the basic NLP Supervised Learning Pipeline\n",
    "\n",
    "import time\n",
    "import re\n",
    "import string\n",
    "\n",
    "import numpy as np\n",
    "import nltk\n",
    "# nltk.download()\n",
    "from nltk import word_tokenize\n",
    "from nltk.corpus import stopwords\n",
    "from nltk.stem.porter import PorterStemmer\n",
    "\n",
    "from sklearn.feature_extraction.text import CountVectorizer\n",
    "from sklearn.feature_extraction.text import TfidfTransformer\n",
    "from sklearn.metrics import classification_report, accuracy_score, f1_score\n",
    "from sklearn.model_selection import train_test_split"
   ]
  },
  {
   "cell_type": "code",
   "execution_count": 7,
   "metadata": {},
   "outputs": [],
   "source": [
    "# Tokenize\n",
    "\n",
    "stemmer = PorterStemmer()\n",
    "def stem_tokens(tokens, stemmer):\n",
    "    stemmed = []\n",
    "    for item in tokens:\n",
    "        stemmed.append(stemmer.stem(item))\n",
    "    return stemmed\n",
    "\n",
    "def tokenize(text):\n",
    "    text = re.sub('\\d+', '[NUM]', text)\n",
    "    text = \"\".join([ch for ch in text if ch not in string.punctuation])\n",
    "    tokens = nltk.word_tokenize(text)\n",
    "    tokens_nostop = [x for x in tokens if x not in stopwords.words('english')]\n",
    "    stems = stem_tokens(tokens_nostop, stemmer)\n",
    "    return stems\n",
    "\n",
    "vect = CountVectorizer(tokenizer=tokenize, \n",
    "                       ngram_range=(1, 3), \n",
    "                       min_df=0.005, \n",
    "                       max_df=0.5, \n",
    "                       max_features = 5000) "
   ]
  },
  {
   "cell_type": "code",
   "execution_count": 8,
   "metadata": {},
   "outputs": [],
   "source": [
    "# Train test split\n",
    "X = dat[['sample_id', 'broadcast_abstract']]\n",
    "y = (dat.news_majority == 'soft').astype(int)\n",
    "\n",
    "X_train,  X_test, y_train, y_test = train_test_split(X, y, test_size=0.3, random_state=21)\n",
    "X_test_data = X_test.copy()\n",
    "X_train = X_train.broadcast_abstract\n",
    "X_test = X_test.broadcast_abstract"
   ]
  },
  {
   "cell_type": "code",
   "execution_count": 9,
   "metadata": {},
   "outputs": [],
   "source": [
    "X_train = vect.fit_transform(X_train)\n",
    "transformer = TfidfTransformer()\n",
    "X_train = transformer.fit_transform(X_train)"
   ]
  },
  {
   "cell_type": "code",
   "execution_count": 10,
   "metadata": {},
   "outputs": [
    {
     "data": {
      "text/plain": [
       "2278"
      ]
     },
     "execution_count": 10,
     "metadata": {},
     "output_type": "execute_result"
    }
   ],
   "source": [
    "len(vect.vocabulary_)"
   ]
  },
  {
   "cell_type": "code",
   "execution_count": 11,
   "metadata": {},
   "outputs": [],
   "source": [
    "from sklearn.svm import LinearSVC\n",
    "from sklearn.calibration import CalibratedClassifierCV\n",
    "\n",
    "est = LinearSVC(penalty='l1', dual=False, tol=1e-3)\n",
    "\n",
    "# Calibrated with isotonic calibration\n",
    "clf = CalibratedClassifierCV(est, cv=2, method='isotonic')"
   ]
  },
  {
   "cell_type": "code",
   "execution_count": 12,
   "metadata": {},
   "outputs": [
    {
     "name": "stdout",
     "output_type": "stream",
     "text": [
      "Results for classifier\n",
      "Training time: 0.127166s; Prediction time: 0.002044s\n",
      "              precision    recall  f1-score   support\n",
      "\n",
      "           0       0.94      1.00      0.97      3374\n",
      "           1       0.88      0.14      0.23       266\n",
      "\n",
      "    accuracy                           0.94      3640\n",
      "   macro avg       0.91      0.57      0.60      3640\n",
      "weighted avg       0.93      0.94      0.91      3640\n",
      "\n"
     ]
    }
   ],
   "source": [
    "t0 = time.time()\n",
    "clf.fit(X_train, y_train)\n",
    "t1 = time.time()\n",
    "y_pred = clf.predict(X_train)\n",
    "t2 = time.time()\n",
    "time_clf_train = t1-t0\n",
    "time_clf_predict = t2-t1\n",
    "print(\"Results for classifier\")\n",
    "print(\"Training time: %fs; Prediction time: %fs\" % (time_clf_train, time_clf_predict))\n",
    "print(classification_report(y_train, y_pred))"
   ]
  },
  {
   "cell_type": "code",
   "execution_count": 13,
   "metadata": {},
   "outputs": [
    {
     "name": "stdout",
     "output_type": "stream",
     "text": [
      "              precision    recall  f1-score   support\n",
      "\n",
      "           0       0.93      1.00      0.96      1442\n",
      "           1       0.73      0.09      0.17       118\n",
      "\n",
      "    accuracy                           0.93      1560\n",
      "   macro avg       0.83      0.55      0.56      1560\n",
      "weighted avg       0.92      0.93      0.90      1560\n",
      "\n",
      "Wall time: 47.8 s\n"
     ]
    }
   ],
   "source": [
    "%%time\n",
    "X_test = vect.transform(X_test)\n",
    "transformer = TfidfTransformer()\n",
    "X_test = transformer.fit_transform(X_test)\n",
    "y_pred = clf.predict(X_test)\n",
    "print(classification_report(y_test, y_pred))"
   ]
  },
  {
   "cell_type": "code",
   "execution_count": 14,
   "metadata": {},
   "outputs": [],
   "source": [
    "def show_most_informative_features(vectorizer, clf, n=20):\n",
    "    feature_names = vectorizer.get_feature_names()\n",
    "    coefs_with_fns = sorted(zip(clf.coef_[0], feature_names))\n",
    "    top = zip(coefs_with_fns[:n], coefs_with_fns[:-(n + 1):-1])\n",
    "    for (coef_1, fn_1), (coef_2, fn_2) in top:\n",
    "        print(\"\\t%.4f\\t%-20s\\t\\t%.4f\\t%-20s\" % (coef_1, fn_1, coef_2, fn_2))\n",
    "\n",
    "def get_most_informative_features(vectorizer, clf, n=20):\n",
    "    feature_names = vectorizer.get_feature_names()\n",
    "    coefs_with_fns = sorted(zip(clf.coef_[0], feature_names))\n",
    "    top_a = coefs_with_fns[:n]\n",
    "    top_b = coefs_with_fns[:-(n + 1):-1]\n",
    "    return top_a, top_b"
   ]
  },
  {
   "cell_type": "code",
   "execution_count": 15,
   "metadata": {},
   "outputs": [
    {
     "name": "stdout",
     "output_type": "stream",
     "text": [
      "\t-1.1224\tsay                 \t\t3.3041\tbirthday            \n",
      "\t-1.0562\tpresidenti          \t\t2.3262\tshow                \n",
      "\t-1.0560\tcase                \t\t2.2269\tnum million         \n",
      "\t-0.9824\tmexico              \t\t2.1872\tfootbal             \n",
      "\t-0.9637\tfamili              \t\t2.1301\tbabi                \n",
      "\t-0.9414\tkill                \t\t1.7912\tkate                \n",
      "\t-0.9387\tgovernor            \t\t1.6472\thill                \n",
      "\t-0.9363\tseason              \t\t1.6001\twinter              \n",
      "\t-0.9101\tdue                 \t\t1.5805\tmovi                \n",
      "\t-0.9019\thit                 \t\t1.5441\tmason               \n",
      "\t-0.8969\tsenat               \t\t1.4908\tappeal              \n",
      "\t-0.8251\tstar                \t\t1.4399\tbasebal             \n",
      "\t-0.7980\tstudent             \t\t1.4194\tmusic               \n",
      "\t-0.7956\tdecis               \t\t1.3439\tpictur              \n",
      "\t-0.7661\tarrest              \t\t1.2632\tunivers             \n",
      "\t-0.7154\tmurder              \t\t1.2570\tyear                \n",
      "\t-0.6799\tmap                 \t\t1.2427\tlong                \n",
      "\t-0.6787\tvictim              \t\t1.2326\tshown num           \n",
      "\t-0.6439\tforc                \t\t1.2208\tcollect             \n",
      "\t-0.6131\trepres              \t\t1.1876\tworld               \n"
     ]
    }
   ],
   "source": [
    "show_most_informative_features(vect, clf.calibrated_classifiers_[0].base_estimator)"
   ]
  },
  {
   "cell_type": "code",
   "execution_count": 16,
   "metadata": {},
   "outputs": [
    {
     "data": {
      "text/plain": [
       "([(-1.1223973136535317, 'say'),\n",
       "  (-1.0561923901745613, 'presidenti'),\n",
       "  (-1.0560461179211376, 'case'),\n",
       "  (-0.9824032379821913, 'mexico'),\n",
       "  (-0.9636773733023121, 'famili'),\n",
       "  (-0.9413534288650499, 'kill'),\n",
       "  (-0.9386734281483382, 'governor'),\n",
       "  (-0.9362506851975211, 'season'),\n",
       "  (-0.910056485755912, 'due'),\n",
       "  (-0.9019368002132592, 'hit'),\n",
       "  (-0.8969119126223121, 'senat'),\n",
       "  (-0.8250805907917281, 'star'),\n",
       "  (-0.7979545652348917, 'student'),\n",
       "  (-0.7956173917369509, 'decis'),\n",
       "  (-0.7661056479723779, 'arrest'),\n",
       "  (-0.7154194530972033, 'murder'),\n",
       "  (-0.6799305776878801, 'map'),\n",
       "  (-0.6786670903808729, 'victim'),\n",
       "  (-0.6438643557633121, 'forc'),\n",
       "  (-0.6131232758313597, 'repres')],\n",
       " [(3.304119761793084, 'birthday'),\n",
       "  (2.3262091555152145, 'show'),\n",
       "  (2.226940817365067, 'num million'),\n",
       "  (2.18718915758205, 'footbal'),\n",
       "  (2.1300721365257793, 'babi'),\n",
       "  (1.79116835542068, 'kate'),\n",
       "  (1.6471973426821427, 'hill'),\n",
       "  (1.600057829522724, 'winter'),\n",
       "  (1.5804886246299301, 'movi'),\n",
       "  (1.5441093201003382, 'mason'),\n",
       "  (1.4908139578823356, 'appeal'),\n",
       "  (1.4399060549627873, 'basebal'),\n",
       "  (1.419367980995081, 'music'),\n",
       "  (1.3438694446762007, 'pictur'),\n",
       "  (1.263229811193234, 'univers'),\n",
       "  (1.2569953364766766, 'year'),\n",
       "  (1.2427467029549395, 'long'),\n",
       "  (1.232636604770137, 'shown num'),\n",
       "  (1.2207681796440049, 'collect'),\n",
       "  (1.187636351806427, 'world')])"
      ]
     },
     "execution_count": 16,
     "metadata": {},
     "output_type": "execute_result"
    }
   ],
   "source": [
    "get_most_informative_features(vect, clf.calibrated_classifiers_[0].base_estimator)"
   ]
  },
  {
   "cell_type": "code",
   "execution_count": null,
   "metadata": {},
   "outputs": [],
   "source": []
  }
 ],
 "metadata": {
  "kernelspec": {
   "display_name": "Python 3",
   "language": "python",
   "name": "python3"
  },
  "language_info": {
   "codemirror_mode": {
    "name": "ipython",
    "version": 3
   },
   "file_extension": ".py",
   "mimetype": "text/x-python",
   "name": "python",
   "nbconvert_exporter": "python",
   "pygments_lexer": "ipython3",
   "version": "3.6.4"
  }
 },
 "nbformat": 4,
 "nbformat_minor": 2
}
